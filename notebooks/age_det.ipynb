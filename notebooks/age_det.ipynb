{
  "cells": [
    {
      "cell_type": "markdown",
      "metadata": {
        "id": "O9kr2EPop_lf"
      },
      "source": [
        "# deep face"
      ]
    },
    {
      "cell_type": "code",
      "execution_count": null,
      "metadata": {
        "id": "UHTVi3xHrLCb"
      },
      "outputs": [],
      "source": [
        "!pip install deepface"
      ]
    },
    {
      "cell_type": "code",
      "execution_count": null,
      "metadata": {
        "id": "xQEBd7Mnp9c8"
      },
      "outputs": [],
      "source": [
        "from deepface import DeepFace\n",
        "import cv2\n",
        "from google.colab.patches import cv2_imshow\n",
        "\n",
        "\n",
        "img = cv2.imread(\"/content/input3.png\")\n",
        "analysis = DeepFace.analyze(img, actions=['age'], enforce_detection=False)\n",
        "age = analysis[0]['age']\n",
        "cv2.putText(img, f\"Age: {age}\", (50, 50), cv2.FONT_HERSHEY_SIMPLEX,\n",
        "            1, (0, 255, 0), 2)\n",
        "cv2_imshow(img)\n"
      ]
    },
    {
      "cell_type": "markdown",
      "metadata": {
        "id": "zo1QbV1YqxFv"
      },
      "source": [
        "# opencv"
      ]
    },
    {
      "cell_type": "code",
      "execution_count": null,
      "metadata": {
        "id": "vow9EhJKuhPh"
      },
      "outputs": [],
      "source": [
        "!wget -O opencv_face_detector_uint8.pb https://github.com/spmallick/learnopencv/raw/master/AgeGender/opencv_face_detector_uint8.pb\n",
        "!wget -O opencv_face_detector.pbtxt https://github.com/spmallick/learnopencv/raw/master/AgeGender/opencv_face_detector.pbtxt\n",
        "!wget -O age_deploy.prototxt https://github.com/spmallick/learnopencv/raw/master/AgeGender/age_deploy.prototxt\n",
        "!wget -O age_net.caffemodel https://github.com/spmallick/learnopencv/raw/master/AgeGender/age_net.caffemodel\n",
        "!wget -O age_net.caffemodel \"https://huggingface.co/AjaySharma/genderDetection/resolve/5cde30ccaa3ebff2e3d06876bf6412f19be183c3/age_net.caffemodel\""
      ]
    },
    {
      "cell_type": "code",
      "execution_count": null,
      "metadata": {
        "id": "5Afwlsj5Cp7V"
      },
      "outputs": [],
      "source": [
        "import cv2\n",
        "import numpy as np\n",
        "from google.colab.patches import cv2_imshow\n",
        "\n",
        "face_proto = \"/content/Gender-and-Age-Detection/opencv_face_detector.pbtxt\"\n",
        "face_model = \"/content/Gender-and-Age-Detection/opencv_face_detector_uint8.pb\"\n",
        "age_proto = \"/content/Gender-and-Age-Detection/age_deploy.prototxt\"\n",
        "age_model = \"/content/Gender-and-Age-Detection/age_net.caffemodel\"\n",
        "\n",
        "face_net = cv2.dnn.readNetFromTensorflow(face_model, face_proto)\n",
        "age_net = cv2.dnn.readNetFromCaffe(age_proto, age_model)\n",
        "\n",
        "AGE_BUCKETS = [\"(0-2)\", \"(4-6)\", \"(8-12)\", \"(15-20)\",\n",
        "               \"(25-32)\", \"(38-43)\", \"(48-53)\", \"(60-100)\"]\n",
        "MODEL_MEAN_VALUES = (78.4263377603, 87.7689143744, 114.895847746)\n",
        "\n",
        "img = cv2.imread(\"/content/input.png\")\n",
        "h, w = img.shape[:2]\n",
        "\n",
        "blob = cv2.dnn.blobFromImage(img, 1.0, (300, 300), [104, 117, 123])\n",
        "face_net.setInput(blob)\n",
        "detections = face_net.forward()\n",
        "\n",
        "for i in range(detections.shape[2]):\n",
        "    confidence = detections[0, 0, i, 2]\n",
        "    if confidence > 0.5:\n",
        "        x1, y1, x2, y2 = (detections[0, 0, i, 3:7] * np.array([w, h, w, h])).astype(int)\n",
        "\n",
        "\n",
        "        x1, y1, x2, y2 = max(0, x1), max(0, y1), min(w, x2), min(h, y2)\n",
        "        face = img[y1:y2, x1:x2]\n",
        "\n",
        "        if face.size > 0:\n",
        "            blob = cv2.dnn.blobFromImage(face, 1.0, (227, 227), MODEL_MEAN_VALUES, swapRB=False)\n",
        "            age_net.setInput(blob)\n",
        "            age_preds = age_net.forward()\n",
        "            age = AGE_BUCKETS[age_preds[0].argmax()]\n",
        "\n",
        "            cv2.rectangle(img, (x1, y1), (x2, y2), (255, 0, 0), 2)\n",
        "            cv2.putText(img, f'Age: {age}', (x1, y1 - 10),\n",
        "                        cv2.FONT_HERSHEY_SIMPLEX, 0.8, (0, 255, 0), 2)\n",
        "\n",
        "cv2_imshow(img)"
      ]
    },
    {
      "cell_type": "markdown",
      "metadata": {
        "id": "cUkB678gAfWi"
      },
      "source": [
        "# smahesh29/Gender-and-Age-Detection"
      ]
    },
    {
      "cell_type": "code",
      "execution_count": null,
      "metadata": {
        "id": "OYY5XRC6vy4Q"
      },
      "outputs": [],
      "source": [
        "!git clone https://github.com/smahesh29/Gender-and-Age-Detection.git\n",
        "%cd Gender-and-Age-Detection\n",
        "!pip install opencv-python argparse\n"
      ]
    },
    {
      "cell_type": "code",
      "execution_count": null,
      "metadata": {
        "colab": {
          "base_uri": "https://localhost:8080/"
        },
        "id": "lieISP3pBD4l",
        "outputId": "bb0d3c6b-b3c0-4117-aa69-f9c631f23266"
      },
      "outputs": [],
      "source": [
        "%cd Gender-and-Age-Detection"
      ]
    },
    {
      "cell_type": "code",
      "execution_count": null,
      "metadata": {
        "colab": {
          "base_uri": "https://localhost:8080/"
        },
        "id": "uai0V9Q4Ae69",
        "outputId": "62ac4df6-a5aa-43c4-e0e0-106598f33c47"
      },
      "outputs": [],
      "source": [
        "!python detect.py --image /content/input3.png"
      ]
    },
    {
      "cell_type": "code",
      "execution_count": null,
      "metadata": {
        "id": "P2vcFyDqAe4m"
      },
      "outputs": [],
      "source": []
    },
    {
      "cell_type": "markdown",
      "metadata": {
        "id": "BRzSgcZgDT3w"
      },
      "source": [
        "# yu4u/age-gender-estimation"
      ]
    },
    {
      "cell_type": "code",
      "execution_count": null,
      "metadata": {
        "id": "bdGjpEUYAe2S"
      },
      "outputs": [],
      "source": [
        "!git clone https://github.com/yu4u/age-gender-estimation.git\n",
        "%cd age-gender-estimation\n",
        "!pip install tensorflow keras opencv-python numpy\n"
      ]
    },
    {
      "cell_type": "code",
      "execution_count": null,
      "metadata": {
        "colab": {
          "base_uri": "https://localhost:8080/"
        },
        "id": "bfFpsB_mDdZ2",
        "outputId": "9aaea709-6014-4f85-98cc-e01e80aa0455"
      },
      "outputs": [],
      "source": [
        "!python demo.py --image_dir /content/input.png"
      ]
    },
    {
      "cell_type": "markdown",
      "metadata": {
        "id": "yOBonjHoGloR"
      },
      "source": [
        "# MiVOLO"
      ]
    },
    {
      "cell_type": "code",
      "execution_count": null,
      "metadata": {
        "colab": {
          "base_uri": "https://localhost:8080/"
        },
        "id": "GbKTjF6fFFIC",
        "outputId": "765930ec-61d2-4da6-a50a-563636c28b03"
      },
      "outputs": [],
      "source": [
        "!git clone https://github.com/WildChlamydia/MiVOLO.git\n",
        "%cd MiVOLO\n",
        "!pip install -r requirements.txt\n",
        "!pip install .\n"
      ]
    },
    {
      "cell_type": "code",
      "execution_count": 5,
      "metadata": {
        "id": "xh1a6IO1QkNx"
      },
      "outputs": [],
      "source": [
        "!mkdir /content/MiVOLO/models"
      ]
    },
    {
      "cell_type": "code",
      "execution_count": null,
      "metadata": {
        "colab": {
          "base_uri": "https://localhost:8080/"
        },
        "id": "dYrglLLKILC2",
        "outputId": "f8124239-624b-423b-ef94-affd331c4bea"
      },
      "outputs": [],
      "source": [
        "\n",
        "!gdown https://drive.google.com/uc?id=1CGNCkZQNj5WkP3rLpENWAOgrBQkUWRdw -O models/yolov8x_person_face.pt\n",
        "!gdown https://drive.google.com/uc?id=11i8pKctxz3wVkDBlWKvhYIh7kpVFXSZ4 -O models/mivolo_imbd.pth.tar\n",
        "\n"
      ]
    },
    {
      "cell_type": "code",
      "execution_count": null,
      "metadata": {
        "colab": {
          "base_uri": "https://localhost:8080/"
        },
        "id": "gC_x5Us_PCax",
        "outputId": "01ef1b51-f4bb-451a-a5fe-81b9cc430d28"
      },
      "outputs": [],
      "source": [
        "%cd MiVOLO"
      ]
    },
    {
      "cell_type": "code",
      "execution_count": null,
      "metadata": {
        "id": "G2YDJD_2RPtJ"
      },
      "outputs": [],
      "source": [
        "#add in demo file\n",
        "import torch\n",
        "\n",
        "_old_torch_load = torch.load\n",
        "\n",
        "def torch_load_force_weights_only_false(*args, **kwargs):\n",
        "    if 'weights_only' not in kwargs:\n",
        "        kwargs['weights_only'] = False\n",
        "    return _old_torch_load(*args, **kwargs)\n",
        "\n",
        "torch.load = torch_load_force_weights_only_false\n"
      ]
    },
    {
      "cell_type": "code",
      "execution_count": null,
      "metadata": {
        "colab": {
          "base_uri": "https://localhost:8080/"
        },
        "id": "m5nElLsnJI92",
        "outputId": "bf3a8bed-6198-428c-e31e-f461b0fb9f4d"
      },
      "outputs": [],
      "source": [
        "!python3 demo.py \\\n",
        "--input \"/content/input.png\" \\\n",
        "--output \"/content/output\" \\\n",
        "--detector-weights \"models/yolov8x_person_face.pt \" \\\n",
        "--checkpoint \"models/mivolo_imbd.pth.tar\" \\\n",
        "--device \"cuda:0\" \\\n",
        "--with-persons \\\n",
        "--draw"
      ]
    },
    {
      "cell_type": "markdown",
      "metadata": {},
      "source": [
        "# icatcher"
      ]
    },
    {
      "cell_type": "code",
      "execution_count": null,
      "metadata": {
        "id": "PE9fcHzoqFRM"
      },
      "outputs": [],
      "source": [
        "!pip install icatcher\n",
        "video_path = '/content/video.mp4'\n",
        "!icatcher \"{video_path}\" \\\n",
        "  --output_annotation /content/annotations \\\n",
        "  --output_video_path /content/output_videos\n"
      ]
    },
    {
      "cell_type": "code",
      "execution_count": null,
      "metadata": {
        "id": "53PNQBS0sYwY"
      },
      "outputs": [],
      "source": []
    },
    {
      "cell_type": "code",
      "execution_count": null,
      "metadata": {},
      "outputs": [],
      "source": []
    }
  ],
  "metadata": {
    "accelerator": "GPU",
    "colab": {
      "gpuType": "T4",
      "provenance": []
    },
    "kernelspec": {
      "display_name": "Python 3",
      "name": "python3"
    },
    "language_info": {
      "name": "python"
    }
  },
  "nbformat": 4,
  "nbformat_minor": 0
}
